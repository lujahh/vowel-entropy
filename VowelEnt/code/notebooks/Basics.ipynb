{
 "cells": [
  {
   "cell_type": "code",
   "execution_count": 1,
   "metadata": {},
   "outputs": [],
   "source": [
    "from collections import Counter\n",
    "import collections, functools, operator \n",
    "import matplotlib.pyplot as plt\n",
    "import math"
   ]
  },
  {
   "cell_type": "code",
   "execution_count": 2,
   "metadata": {},
   "outputs": [
    {
     "name": "stderr",
     "output_type": "stream",
     "text": [
      "/usr/local/lib/python3.7/site-packages/ipykernel_launcher.py:8: DeprecationWarning: 'U' mode is deprecated\n",
      "  \n"
     ]
    }
   ],
   "source": [
    "#read file to list of lists\n",
    "#0: orthography\n",
    "#1: phon w/o r dipthong char\n",
    "#2: freq 1\n",
    "#3: freq 2\n",
    "#4: phon w/ r dipthong char\n",
    "r1 = []\n",
    "myFile= open( \"CMUDict_Lemma_RDip_SubtlexFreqs.txt\", \"rU\" )\n",
    "for aRow in myFile:\n",
    "    r1.append(aRow.strip('\\n').split('\\t'))\n",
    "myFile.close()"
   ]
  },
  {
   "cell_type": "code",
   "execution_count": 3,
   "metadata": {},
   "outputs": [],
   "source": [
    "#get the number of each character in each word, multiplied by the frequency for that word\n",
    "list_of_dict = []\n",
    "for ii in range(0, len(r1)):\n",
    "    local_dict = dict(Counter(r1[ii][4]))\n",
    "    #multiply by freq\n",
    "    for key in local_dict:\n",
    "        local_dict[key] *= float(r1[ii][3])\n",
    "    list_of_dict.append(local_dict)"
   ]
  },
  {
   "cell_type": "code",
   "execution_count": 4,
   "metadata": {},
   "outputs": [],
   "source": [
    "#sum everything together to get the counts for each character in the corpus based on word frequency\n",
    "result = dict(functools.reduce(operator.add, \n",
    "         map(collections.Counter, list_of_dict))) "
   ]
  },
  {
   "cell_type": "code",
   "execution_count": 5,
   "metadata": {},
   "outputs": [
    {
     "data": {
      "text/plain": [
       "{'V': 119506.7499999998,\n",
       " '1': 7006.159999999999,\n",
       " 'd': 92287.69999999946,\n",
       " 'v': 47775.19000000008,\n",
       " 'k': 83011.31999999985,\n",
       " 'x': 137029.76999999932,\n",
       " 'b': 46949.41000000016,\n",
       " '@': 64742.68000000016,\n",
       " 's': 103715.0799999998,\n",
       " 'l': 95266.42999999964,\n",
       " 'o': 48567.89999999999,\n",
       " 'n': 159292.17999999868,\n",
       " 'i': 125308.13999999959,\n",
       " 'm': 85657.68999999951,\n",
       " 't': 200927.39999999927,\n",
       " 'e': 48000.4300000002,\n",
       " 'r': 65940.67000000055,\n",
       " 'S': 16165.580000000022,\n",
       " 'a': 28349.920000000217,\n",
       " 'R': 52551.8400000003,\n",
       " 'E': 69197.87000000007,\n",
       " 'h': 53371.61000000006,\n",
       " '5': 17470.71000000001,\n",
       " 'c': 31298.45000000007,\n",
       " 'Y': 94751.53999999951,\n",
       " 'N': 32789.66000000019,\n",
       " 'I': 75978.25999999985,\n",
       " 'J': 12088.33000000004,\n",
       " 'z': 18860.460000000105,\n",
       " 'W': 21245.82000000008,\n",
       " 'Z': 658.5999999999999,\n",
       " 'p': 41997.65000000028,\n",
       " 'T': 20156.68000000003,\n",
       " 'u': 69249.07000000011,\n",
       " 'C': 8857.730000000018,\n",
       " 'y': 64016.17000000003,\n",
       " 'w': 45582.50999999999,\n",
       " '4': 9721.859999999997,\n",
       " 'f': 49269.11000000007,\n",
       " 'O': 1996.1899999999991,\n",
       " '2': 6669.490000000004,\n",
       " 'U': 12854.250000000015,\n",
       " 'g': 28322.750000000156,\n",
       " 'D': 70952.34000000001,\n",
       " '6': 1473.2299999999998,\n",
       " 'H': 17935.080000000005}"
      ]
     },
     "execution_count": 5,
     "metadata": {},
     "output_type": "execute_result"
    }
   ],
   "source": [
    "result"
   ]
  },
  {
   "cell_type": "code",
   "execution_count": 6,
   "metadata": {},
   "outputs": [],
   "source": [
    "#do the same thing for type frequency (don't multiply by the freq of each word)\n",
    "#get the number of each character in each word, multiplied by the frequency for that word\n",
    "list_of_dict2 = []\n",
    "for ii in range(0, len(r1)):\n",
    "    local_dict = dict(Counter(r1[ii][4]))\n",
    "    list_of_dict2.append(local_dict)\n",
    "result_type = dict(functools.reduce(operator.add, \n",
    "         map(collections.Counter, list_of_dict2))) "
   ]
  },
  {
   "cell_type": "code",
   "execution_count": 7,
   "metadata": {},
   "outputs": [
    {
     "data": {
      "text/plain": [
       "{'V': 2609,\n",
       " '1': 785,\n",
       " 'd': 7738,\n",
       " 'v': 2370,\n",
       " 'k': 8563,\n",
       " 'x': 23185,\n",
       " 'b': 3846,\n",
       " '@': 4384,\n",
       " 's': 10525,\n",
       " 'l': 10271,\n",
       " 'o': 2520,\n",
       " 'n': 12092,\n",
       " 'i': 6627,\n",
       " 'm': 5656,\n",
       " 't': 12402,\n",
       " 'e': 3539,\n",
       " 'r': 7274,\n",
       " 'S': 2351,\n",
       " 'a': 2587,\n",
       " 'R': 5599,\n",
       " 'E': 4884,\n",
       " 'h': 1305,\n",
       " '5': 932,\n",
       " 'c': 1217,\n",
       " 'Y': 2725,\n",
       " 'N': 3002,\n",
       " 'I': 4210,\n",
       " 'J': 1476,\n",
       " 'z': 1749,\n",
       " 'W': 752,\n",
       " 'Z': 158,\n",
       " 'p': 5582,\n",
       " 'T': 635,\n",
       " 'u': 1899,\n",
       " 'C': 1030,\n",
       " 'y': 1086,\n",
       " 'w': 1461,\n",
       " '4': 214,\n",
       " 'f': 3193,\n",
       " 'O': 263,\n",
       " '2': 139,\n",
       " 'U': 405,\n",
       " 'g': 2104,\n",
       " 'D': 178,\n",
       " '6': 61,\n",
       " 'H': 103}"
      ]
     },
     "execution_count": 7,
     "metadata": {},
     "output_type": "execute_result"
    }
   ],
   "source": [
    "result_type"
   ]
  },
  {
   "cell_type": "code",
   "execution_count": 8,
   "metadata": {},
   "outputs": [
    {
     "data": {
      "text/plain": [
       "<BarContainer object of 46 artists>"
      ]
     },
     "execution_count": 8,
     "metadata": {},
     "output_type": "execute_result"
    },
    {
     "data": {
      "image/png": "[encoded data removed]",
      "text/plain": [
       "<Figure size 432x288 with 1 Axes>"
      ]
     },
     "metadata": {
      "needs_background": "light"
     },
     "output_type": "display_data"
    }
   ],
   "source": [
    "#plot of token count segments\n",
    "width = 1.0\n",
    "plt.bar(result.keys(), result.values(), width, color='g')"
   ]
  },
  {
   "cell_type": "code",
   "execution_count": 9,
   "metadata": {},
   "outputs": [
    {
     "data": {
      "text/plain": [
       "<BarContainer object of 46 artists>"
      ]
     },
     "execution_count": 9,
     "metadata": {},
     "output_type": "execute_result"
    },
    {
     "data": {
      "image/png": "[encoded data removed]",
      "text/plain": [
       "<Figure size 432x288 with 1 Axes>"
      ]
     },
     "metadata": {
      "needs_background": "light"
     },
     "output_type": "display_data"
    }
   ],
   "source": [
    "#plot type count segments\n",
    "width = 1.0\n",
    "plt.bar(result_type.keys(), result_type.values(), width, color='b')"
   ]
  },
  {
   "cell_type": "code",
   "execution_count": 10,
   "metadata": {},
   "outputs": [],
   "source": [
    "#just the monopthongy vowels\n",
    "vowels = { 'i', 'I', 'e', 'E', '@', 'u', 'U', 'o', 'c', 'a', 'V', 'R' }\n",
    "vowels_token = { key:value for key,value in result.items() if key in vowels}\n",
    "vowels_type = { key:value for key,value in result_type.items() if key in vowels}\n"
   ]
  },
  {
   "cell_type": "code",
   "execution_count": 11,
   "metadata": {},
   "outputs": [
    {
     "data": {
      "text/plain": [
       "<BarContainer object of 12 artists>"
      ]
     },
     "execution_count": 11,
     "metadata": {},
     "output_type": "execute_result"
    },
    {
     "data": {
      "image/png": "[encoded data removed]",
      "text/plain": [
       "<Figure size 432x288 with 1 Axes>"
      ]
     },
     "metadata": {
      "needs_background": "light"
     },
     "output_type": "display_data"
    }
   ],
   "source": [
    "#plot token freq vowels\n",
    "width = 1.0\n",
    "plt.bar(vowels_token.keys(), vowels_token.values(), width, color='g')"
   ]
  },
  {
   "cell_type": "code",
   "execution_count": 12,
   "metadata": {},
   "outputs": [
    {
     "data": {
      "text/plain": [
       "<BarContainer object of 12 artists>"
      ]
     },
     "execution_count": 12,
     "metadata": {},
     "output_type": "execute_result"
    },
    {
     "data": {
      "image/png": "[encoded data removed]",
      "text/plain": [
       "<Figure size 432x288 with 1 Axes>"
      ]
     },
     "metadata": {
      "needs_background": "light"
     },
     "output_type": "display_data"
    }
   ],
   "source": [
    "#plot type freq vowels\n",
    "width = 1.0\n",
    "plt.bar(vowels_type.keys(), vowels_type.values(), width, color='b')"
   ]
  },
  {
   "cell_type": "code",
   "execution_count": 13,
   "metadata": {},
   "outputs": [],
   "source": [
    "#entropy of vowel system (token freq)\n",
    "\n",
    "#first get total frequency so we can get the probability\n",
    "totalfreq = sum(vowels_token.values())\n",
    "\n",
    "#now divide the frequency of each vowel by the total frequency to get the probability\n",
    "probabilities = {}\n",
    "for key in vowels_token:\n",
    "    probabilities[key] = vowels_token[key]/totalfreq\n",
    "    \n",
    "#now get the surprisal for each vowel times the probability for each vowel\n",
    "surprisals = {}\n",
    "for key in probabilities:\n",
    "    surprisals[key] = probabilities[key]*(math.log2(1/probabilities[key]))\n",
    "\n",
    "#now add all of those together to get the entropy\n",
    "entropy_vowels_token = sum(surprisals.values())"
   ]
  },
  {
   "cell_type": "code",
   "execution_count": 14,
   "metadata": {},
   "outputs": [
    {
     "data": {
      "text/plain": [
       "{'V': 0.16028146302986224,\n",
       " '@': 0.08683234604634671,\n",
       " 'o': 0.06513886511254015,\n",
       " 'i': 0.16806223923544714,\n",
       " 'e': 0.06437777904982384,\n",
       " 'a': 0.03802267783518165,\n",
       " 'R': 0.07048209243504068,\n",
       " 'E': 0.09280760996471114,\n",
       " 'c': 0.04197722184367838,\n",
       " 'I': 0.10190141285963561,\n",
       " 'u': 0.09287627898053774,\n",
       " 'U': 0.01724001360719468}"
      ]
     },
     "execution_count": 14,
     "metadata": {},
     "output_type": "execute_result"
    }
   ],
   "source": [
    "probabilities"
   ]
  },
  {
   "cell_type": "code",
   "execution_count": 15,
   "metadata": {},
   "outputs": [
    {
     "data": {
      "text/plain": [
       "{'V': 0.42335471586585377,\n",
       " '@': 0.30613817076607197,\n",
       " 'o': 0.25666911976950213,\n",
       " 'i': 0.4324127945393178,\n",
       " 'e': 0.25476175905994664,\n",
       " 'a': 0.17935282112358877,\n",
       " 'R': 0.26970673508349335,\n",
       " 'E': 0.31829419330066183,\n",
       " 'c': 0.19201428607642038,\n",
       " 'I': 0.3357400917343263,\n",
       " 'u': 0.31843059636542326,\n",
       " 'U': 0.10099364228181293}"
      ]
     },
     "execution_count": 15,
     "metadata": {},
     "output_type": "execute_result"
    }
   ],
   "source": [
    "surprisals"
   ]
  },
  {
   "cell_type": "code",
   "execution_count": 16,
   "metadata": {},
   "outputs": [
    {
     "data": {
      "text/plain": [
       "3.3878689259664196"
      ]
     },
     "execution_count": 16,
     "metadata": {},
     "output_type": "execute_result"
    }
   ],
   "source": [
    "entropy_vowels_token"
   ]
  },
  {
   "cell_type": "code",
   "execution_count": 17,
   "metadata": {},
   "outputs": [],
   "source": [
    "#contribution of vowels to the system (token freq)\n",
    "\n",
    "#entropy of the entire system first\n",
    "totalfreq = sum(result.values())\n",
    "\n",
    "probabilities = {}\n",
    "for key in result:\n",
    "    probabilities[key] = result[key]/totalfreq\n",
    "    \n",
    "surprisals = {}\n",
    "for key in probabilities:\n",
    "    surprisals[key] = probabilities[key]*(math.log2(1/probabilities[key]))\n",
    "\n",
    "#now add all of those together to get the entropy\n",
    "entropy_total = sum(surprisals.values())"
   ]
  },
  {
   "cell_type": "code",
   "execution_count": 18,
   "metadata": {},
   "outputs": [
    {
     "data": {
      "text/plain": [
       "5.0571104380771805"
      ]
     },
     "execution_count": 18,
     "metadata": {},
     "output_type": "execute_result"
    }
   ],
   "source": [
    "entropy_total"
   ]
  },
  {
   "cell_type": "code",
   "execution_count": 19,
   "metadata": {},
   "outputs": [],
   "source": [
    "#entropy of system without vowels\n",
    "nonvowel = { key:value for key,value in result.items() if not key in vowels}\n",
    "\n",
    "\n",
    "totalfreq = sum(nonvowel.values())\n",
    "\n",
    "probabilities = {}\n",
    "for key in nonvowel:\n",
    "    probabilities[key] = nonvowel[key]/totalfreq\n",
    "    \n",
    "surprisals = {}\n",
    "for key in probabilities:\n",
    "    surprisals[key] = probabilities[key]*(math.log2(1/probabilities[key]))\n",
    "\n",
    "#now add all of those together to get the entropy\n",
    "entropy_nonvowel = sum(surprisals.values())\n"
   ]
  },
  {
   "cell_type": "code",
   "execution_count": 20,
   "metadata": {},
   "outputs": [
    {
     "data": {
      "text/plain": [
       "4.513860441153023"
      ]
     },
     "execution_count": 20,
     "metadata": {},
     "output_type": "execute_result"
    }
   ],
   "source": [
    "entropy_nonvowel"
   ]
  },
  {
   "cell_type": "code",
   "execution_count": 21,
   "metadata": {},
   "outputs": [],
   "source": [
    "#entropy contribution of vowels\n",
    "\n",
    "vowel_contr = entropy_total - (entropy_nonvowel/ entropy_total)"
   ]
  },
  {
   "cell_type": "code",
   "execution_count": 22,
   "metadata": {},
   "outputs": [
    {
     "data": {
      "text/plain": [
       "4.164533442493654"
      ]
     },
     "execution_count": 22,
     "metadata": {},
     "output_type": "execute_result"
    }
   ],
   "source": [
    "vowel_contr"
   ]
  },
  {
   "cell_type": "code",
   "execution_count": null,
   "metadata": {},
   "outputs": [],
   "source": []
  }
 ],
 "metadata": {
  "kernelspec": {
   "display_name": "Python 3",
   "language": "python",
   "name": "python3"
  },
  "language_info": {
   "codemirror_mode": {
    "name": "ipython",
    "version": 3
   },
   "file_extension": ".py",
   "mimetype": "text/x-python",
   "name": "python",
   "nbconvert_exporter": "python",
   "pygments_lexer": "ipython3",
   "version": "3.7.4"
  }
 },
 "nbformat": 4,
 "nbformat_minor": 4
}
